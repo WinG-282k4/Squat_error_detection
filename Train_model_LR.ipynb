{
 "cells": [
  {
   "cell_type": "code",
   "execution_count": 9,
   "metadata": {},
   "outputs": [
    {
     "name": "stderr",
     "output_type": "stream",
     "text": [
      "d:\\Thanh\\TLHT\\HK6\\PBL5\\Main\\venv\\lib\\site-packages\\sklearn\\linear_model\\_logistic.py:1256: FutureWarning: 'multi_class' was deprecated in version 1.5 and will be removed in 1.7. Use OneVsRestClassifier(LogisticRegression(..)) instead. Leave it to its default value to avoid this warning.\n",
      "  warnings.warn(\n"
     ]
    },
    {
     "name": "stdout",
     "output_type": "stream",
     "text": [
      "Validation Accuracy: 0.9321\n",
      "Validation Recall: 0.7802\n",
      "Test Accuracy: 0.8890\n",
      "Test Recall: 0.8249\n"
     ]
    }
   ],
   "source": [
    "import pandas as pd\n",
    "import numpy as np\n",
    "from sklearn.preprocessing import StandardScaler\n",
    "from sklearn.linear_model import LogisticRegression\n",
    "from sklearn.metrics import accuracy_score, recall_score\n",
    "\n",
    "# Đọc dữ liệu từ các tệp CSV riêng biệt\n",
    "df_train = pd.read_csv(\"dataset/train.csv\")\n",
    "df_val = pd.read_csv(\"dataset/validation.csv\")\n",
    "df_test = pd.read_csv(\"dataset/test.csv\")\n",
    "\n",
    "# Loại bỏ cột 'video_name'\n",
    "df_train = df_train.drop(columns=[\"video_name\"])\n",
    "df_val = df_val.drop(columns=[\"video_name\"])\n",
    "df_test = df_test.drop(columns=[\"video_name\"])\n",
    "\n",
    "# Các nhãn bài tập (được đánh số từ 0 đến 5)\n",
    "label_column = \"label\"\n",
    "\n",
    "# Tách feature và label\n",
    "X_train = df_train.drop(columns=[label_column]).values\n",
    "y_train = df_train[label_column].values\n",
    "\n",
    "X_val = df_val.drop(columns=[label_column]).values\n",
    "y_val = df_val[label_column].values\n",
    "\n",
    "X_test = df_test.drop(columns=[label_column]).values\n",
    "y_test = df_test[label_column].values\n",
    "\n",
    "# Chuẩn hóa dữ liệu\n",
    "scaler = StandardScaler()\n",
    "X_train = scaler.fit_transform(X_train)\n",
    "X_val = scaler.transform(X_val)\n",
    "X_test = scaler.transform(X_test)\n",
    "\n",
    "# Train mô hình Logistic Regression\n",
    "model = LogisticRegression(max_iter=1000, multi_class='ovr')  # One-vs-Rest cho multi-label\n",
    "model.fit(X_train, y_train)\n",
    "\n",
    "# Đánh giá trên tập validation\n",
    "y_val_pred = model.predict(X_val)\n",
    "val_accuracy = accuracy_score(y_val, y_val_pred)\n",
    "val_recall = recall_score(y_val, y_val_pred, average='macro')\n",
    "print(f'Validation Accuracy: {val_accuracy:.4f}')\n",
    "print(f'Validation Recall: {val_recall:.4f}')\n",
    "\n",
    "# Dự đoán trên tập test\n",
    "y_pred = model.predict(X_test)\n",
    "\n",
    "# Đánh giá mô hình\n",
    "accuracy = accuracy_score(y_test, y_pred)\n",
    "recall = recall_score(y_test, y_pred, average='macro')\n",
    "print(f'Test Accuracy: {accuracy:.4f}')\n",
    "print(f'Test Recall: {recall:.4f}')\n"
   ]
  },
  {
   "cell_type": "code",
   "execution_count": 12,
   "metadata": {},
   "outputs": [],
   "source": [
    "import pickle\n",
    "\n",
    "\n",
    "# Lưu mô hình vào file .pkl\n",
    "with open('Model/Squat_detection_LR.pkl', 'wb') as f:\n",
    "    pickle.dump(model, f)\n",
    "\n",
    "with open(\"Model/scaler_LR.pkl\", \"wb\") as f:\n",
    "    pickle.dump(scaler, f)\n"
   ]
  }
 ],
 "metadata": {
  "kernelspec": {
   "display_name": "venv",
   "language": "python",
   "name": "python3"
  },
  "language_info": {
   "codemirror_mode": {
    "name": "ipython",
    "version": 3
   },
   "file_extension": ".py",
   "mimetype": "text/x-python",
   "name": "python",
   "nbconvert_exporter": "python",
   "pygments_lexer": "ipython3",
   "version": "3.10.11"
  }
 },
 "nbformat": 4,
 "nbformat_minor": 2
}
