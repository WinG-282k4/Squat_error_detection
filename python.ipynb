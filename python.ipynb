{
 "cells": [
  {
   "cell_type": "code",
   "execution_count": 2,
   "metadata": {},
   "outputs": [
    {
     "name": "stdout",
     "output_type": "stream",
     "text": [
      "Processing: 20250228_153500.mp4\n",
      "Processing: 20250228_154002.mp4\n",
      "Processing: 20250228_154106.mp4\n",
      "Processing: 20250228_154228.mp4\n",
      "Processing: 20250228_084059000_iOS.mp4\n",
      "Processing: 20250228_084108000_iOS.mp4\n",
      "Processing: 20250228_084229000_iOS.mp4\n",
      "Processing: 20250228_084246000_iOS.mp4\n",
      "Processing: VID_20250228_153840.mp4\n",
      "Processing: VID_20250228_153950.mp4\n",
      "Processing: VID_20250228_154058.mp4\n",
      "Processing: VID_20250228_154228.mp4\n"
     ]
    }
   ],
   "source": [
    "import cv2\n",
    "\n",
    "Video_folder = \"Data/train/Chan_qua_hep\"\n",
    "video_files = [\n",
    "    \"20250228_153500.mp4\",\n",
    "    \"20250228_154002.mp4\",\n",
    "    \"20250228_154106.mp4\",\n",
    "    \"20250228_154228.mp4\",\n",
    "    \"20250228_084059000_iOS.mp4\",\n",
    "    \"20250228_084108000_iOS.mp4\",\n",
    "    \"20250228_084229000_iOS.mp4\",\n",
    "    \"20250228_084246000_iOS.mp4\",\n",
    "    \"VID_20250228_153840.mp4\",\n",
    "    \"VID_20250228_153950.mp4\",\n",
    "    \"VID_20250228_154058.mp4\",\n",
    "    \"VID_20250228_154228.mp4\"\n",
    "]\n",
    "\n",
    "for video_name in video_files:\n",
    "    video_path = f\"{Video_folder}/{video_name}\"\n",
    "    Cap = cv2.VideoCapture(video_path)\n",
    "    \n",
    "    if not Cap.isOpened():\n",
    "        print(f\"Error: Could not open video {video_name}\")\n",
    "        continue\n",
    "    \n",
    "    print(f\"Processing: {video_name}\")\n",
    "    \n",
    "    # Xử lý video ở đây\n",
    "    while Cap.isOpened():\n",
    "        ret, frame = Cap.read()\n",
    "        if not ret:\n",
    "            break\n",
    "        # Xử lý frame\n",
    "    \n",
    "    Cap.release()"
   ]
  }
 ],
 "metadata": {
  "kernelspec": {
   "display_name": "venv",
   "language": "python",
   "name": "python3"
  },
  "language_info": {
   "codemirror_mode": {
    "name": "ipython",
    "version": 3
   },
   "file_extension": ".py",
   "mimetype": "text/x-python",
   "name": "python",
   "nbconvert_exporter": "python",
   "pygments_lexer": "ipython3",
   "version": "3.10.11"
  }
 },
 "nbformat": 4,
 "nbformat_minor": 2
}
