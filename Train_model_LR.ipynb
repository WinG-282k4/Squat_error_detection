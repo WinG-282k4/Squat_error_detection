{
 "cells": [
  {
   "cell_type": "code",
   "execution_count": 5,
   "metadata": {},
   "outputs": [
    {
     "name": "stderr",
     "output_type": "stream",
     "text": [
      "d:\\Thanh\\TLHT\\HK6\\PBL5\\Main\\venv\\lib\\site-packages\\sklearn\\linear_model\\_logistic.py:1256: FutureWarning: 'multi_class' was deprecated in version 1.5 and will be removed in 1.7. Use OneVsRestClassifier(LogisticRegression(..)) instead. Leave it to its default value to avoid this warning.\n",
      "  warnings.warn(\n"
     ]
    },
    {
     "name": "stdout",
     "output_type": "stream",
     "text": [
      "Class counts: {0: 3150, 1: 2447, 2: 2495, 3: 1316, 4: 927, 5: 805}\n"
     ]
    },
    {
     "name": "stderr",
     "output_type": "stream",
     "text": [
      "d:\\Thanh\\TLHT\\HK6\\PBL5\\Main\\venv\\lib\\site-packages\\sklearn\\linear_model\\_logistic.py:1256: FutureWarning: 'multi_class' was deprecated in version 1.5 and will be removed in 1.7. Use OneVsRestClassifier(LogisticRegression(..)) instead. Leave it to its default value to avoid this warning.\n",
      "  warnings.warn(\n"
     ]
    },
    {
     "name": "stdout",
     "output_type": "stream",
     "text": [
      "Test Accuracy: 0.8594\n",
      "Test Recall:\n",
      "Class 0: 0.7083\n",
      "Class 1: 0.7986\n",
      "Class 2: 1.0000\n",
      "Class 3: 0.9254\n",
      "Class 4: 0.9323\n",
      "Class 5: 0.9890\n"
     ]
    }
   ],
   "source": [
    "import pandas as pd\n",
    "import numpy as np\n",
    "from sklearn.preprocessing import StandardScaler\n",
    "from sklearn.linear_model import LogisticRegression\n",
    "from sklearn.metrics import accuracy_score, recall_score\n",
    "\n",
    "# Đọc dữ liệu từ các tệp CSV riêng biệt\n",
    "df_train = pd.read_csv(\"dataset/train.csv\")\n",
    "# df_val = pd.read_csv(\"dataset/validation.csv\")\n",
    "df_test = pd.read_csv(\"dataset/test.csv\")\n",
    "\n",
    "# Loại bỏ cột 'video_name'\n",
    "df_train = df_train.drop(columns=[\"video_name\"])\n",
    "# df_val = df_val.drop(columns=[\"video_name\"])\n",
    "df_test = df_test.drop(columns=[\"video_name\"])\n",
    "\n",
    "# Các nhãn bài tập (được đánh số từ 0 đến 5)\n",
    "label_column = \"label\"\n",
    "\n",
    "# Tách feature và label\n",
    "X_train = df_train.drop(columns=[label_column]).values\n",
    "y_train = df_train[label_column].values\n",
    "\n",
    "# X_val = df_val.drop(columns=[label_column]).values\n",
    "# y_val = df_val[label_column].values\n",
    "\n",
    "X_test = df_test.drop(columns=[label_column]).values\n",
    "y_test = df_test[label_column].values\n",
    "\n",
    "# Chuẩn hóa dữ liệu\n",
    "scaler = StandardScaler()\n",
    "X_train = scaler.fit_transform(X_train)\n",
    "# X_val = scaler.transform(X_val)\n",
    "X_test = scaler.transform(X_test)\n",
    "\n",
    "# Train mô hình Logistic Regression\n",
    "model = LogisticRegression(max_iter=1000, multi_class='ovr')  # One-vs-Rest cho multi-label\n",
    "model.fit(X_train, y_train)\n",
    "\n",
    "# Đánh giá trên tập validation\n",
    "# y_val_pred = model.predict(X_val)\n",
    "# val_accuracy = accuracy_score(y_val, y_val_pred)\n",
    "# val_recall = recall_score(y_val, y_val_pred, average='macro')\n",
    "# print(f'Validation Accuracy: {val_accuracy:.4f}')\n",
    "# print(f'Validation Recall: {val_recall:.4f}')\n",
    "\n",
    "# Đếm số lượng mẫu của mỗi lớp\n",
    "unique, counts = np.unique(y_train, return_counts=True)\n",
    "class_counts = dict(zip(unique, counts))\n",
    "print('Class counts:', class_counts)\n",
    "\n",
    "\n",
    "# Tạo trọng số tùy chỉnh\n",
    "class_weight = {0: 1/2, 3: 2, 4: 3, 5: 3}  # Giảm trọng số lớp 0, tăng lớp 3, 4, 5\n",
    "for cls in unique:  \n",
    "    if cls not in class_weight:  \n",
    "        class_weight[cls] = 1  # Các lớp khác giữ nguyên trọng số\n",
    "\n",
    "# Train mô hình với class_weight\n",
    "model = LogisticRegression(max_iter=1000, multi_class='ovr', class_weight=class_weight)\n",
    "model.fit(X_train, y_train)\n",
    "\n",
    "# Đánh giá mô hình\n",
    "y_pred = model.predict(X_test)\n",
    "accuracy = accuracy_score(y_test, y_pred)\n",
    "recall_per_class = recall_score(y_test, y_pred, average=None)\n",
    "\n",
    "print(f'Test Accuracy: {accuracy:.4f}')\n",
    "print(f'Test Recall:')\n",
    "for i, recall in enumerate(recall_per_class):\n",
    "    print(f'Class {i}: {recall:.4f}')"
   ]
  },
  {
   "cell_type": "code",
   "execution_count": 6,
   "metadata": {},
   "outputs": [],
   "source": [
    "import pickle\n",
    "\n",
    "\n",
    "# Lưu mô hình vào file .pkl\n",
    "with open('Model/Squat_detection_LR.pkl', 'wb') as f:\n",
    "    pickle.dump(model, f)\n",
    "\n",
    "with open(\"Model/scaler_LR.pkl\", \"wb\") as f:\n",
    "    pickle.dump(scaler, f)\n"
   ]
  }
 ],
 "metadata": {
  "kernelspec": {
   "display_name": "venv",
   "language": "python",
   "name": "python3"
  },
  "language_info": {
   "codemirror_mode": {
    "name": "ipython",
    "version": 3
   },
   "file_extension": ".py",
   "mimetype": "text/x-python",
   "name": "python",
   "nbconvert_exporter": "python",
   "pygments_lexer": "ipython3",
   "version": "3.10.11"
  }
 },
 "nbformat": 4,
 "nbformat_minor": 2
}
